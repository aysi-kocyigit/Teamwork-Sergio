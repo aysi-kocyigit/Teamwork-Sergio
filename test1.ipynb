{
 "cells": [
  {
   "cell_type": "code",
   "execution_count": null,
   "id": "50613dda",
   "metadata": {},
   "outputs": [],
   "source": [
    "print(\"James Bond is a legend\")"
   ]
  }
 ],
 "metadata": {
  "language_info": {
   "name": "python"
  }
 },
 "nbformat": 4,
 "nbformat_minor": 5
}
